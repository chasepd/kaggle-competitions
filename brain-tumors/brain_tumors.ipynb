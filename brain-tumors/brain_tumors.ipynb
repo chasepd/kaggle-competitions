{
 "cells": [
  {
   "cell_type": "code",
   "execution_count": 1,
   "id": "df75ef1c",
   "metadata": {},
   "outputs": [],
   "source": [
    "import torch\n",
    "import torch.nn as nn\n",
    "import torch.optim as optim\n",
    "import torchvision\n",
    "import timm\n",
    "import os\n",
    "import numpy as np\n",
    "import pandas as pd\n",
    "from torch.utils.data import Dataset, DataLoader"
   ]
  },
  {
   "cell_type": "code",
   "execution_count": 2,
   "id": "b1b73b04",
   "metadata": {},
   "outputs": [],
   "source": [
    "device = torch.device(\"cuda:0\" if torch.cuda.is_available() else \"cpu\")"
   ]
  },
  {
   "cell_type": "code",
   "execution_count": 3,
   "id": "6fce3adf",
   "metadata": {},
   "outputs": [
    {
     "data": {
      "text/plain": [
       "<torch._C.Generator at 0x7f4e7c868cf0>"
      ]
     },
     "execution_count": 3,
     "metadata": {},
     "output_type": "execute_result"
    }
   ],
   "source": [
    "# Identify the number of classes by the number of subfolders in the data directory\n",
    "NUM_CLASSES = len(os.listdir('./data'))\n",
    "random_seed = 42\n",
    "np.random.seed(random_seed)\n",
    "torch.manual_seed(random_seed)"
   ]
  },
  {
   "cell_type": "code",
   "execution_count": 4,
   "id": "ea8e2186",
   "metadata": {},
   "outputs": [],
   "source": [
    "class TumorClassifier(nn.Module):\n",
    "    def __init__(self, num_classes=NUM_CLASSES):\n",
    "        super(TumorClassifier, self).__init__()\n",
    "        self.model = timm.create_model('efficientnet_b0', pretrained=True)\n",
    "        self.model.classifier = nn.Linear(self.model.classifier.in_features, num_classes)\n",
    "\n",
    "    def forward(self, x):\n",
    "        x = self.model(x)\n",
    "        return x"
   ]
  },
  {
   "cell_type": "code",
   "execution_count": 5,
   "id": "44e8dac4",
   "metadata": {},
   "outputs": [],
   "source": [
    "# Creating model\n",
    "model = TumorClassifier().to(device)"
   ]
  },
  {
   "cell_type": "code",
   "execution_count": 6,
   "id": "84e939d5",
   "metadata": {},
   "outputs": [
    {
     "name": "stdout",
     "output_type": "stream",
     "text": [
      "Loading data...\n"
     ]
    }
   ],
   "source": [
    "print('Loading data...')\n",
    "# Load in the data from the data directory; subdirectories are the classes\n",
    "data = torchvision.datasets.ImageFolder('./data', transform=torchvision.transforms.ToTensor())\n",
    "\n",
    "# Split the data into training and validation sets\n",
    "train_size = int(0.8 * len(data))\n",
    "val_size = len(data) - train_size\n",
    "train_set, val_set = torch.utils.data.random_split(data, [train_size, val_size])"
   ]
  },
  {
   "cell_type": "code",
   "execution_count": 7,
   "id": "f4fc683f",
   "metadata": {},
   "outputs": [],
   "source": [
    "# Create data loaders for the training and validation sets\n",
    "train_loader = DataLoader(train_set, batch_size=32, shuffle=True)\n",
    "val_loader = DataLoader(val_set, batch_size=32, shuffle=True)\n",
    "\n",
    "# Define the loss function and optimizer\n",
    "criterion = nn.CrossEntropyLoss()\n",
    "optimizer = optim.Adam(model.parameters(), lr=0.00001)\n",
    "\n",
    "# Move the model to the GPU\n",
    "model = model.to(device)"
   ]
  },
  {
   "cell_type": "code",
   "execution_count": 8,
   "id": "82a899a3",
   "metadata": {},
   "outputs": [
    {
     "name": "stdout",
     "output_type": "stream",
     "text": [
      "Training model...\n",
      "Epoch 1 loss: 1.238\n",
      "Epoch 2 loss: 0.985\n",
      "Epoch 3 loss: 0.657\n",
      "Epoch 4 loss: 0.627\n",
      "Epoch 5 loss: 0.641\n",
      "Epoch 6 loss: 0.552\n",
      "Epoch 7 loss: 0.196\n",
      "Epoch 8 loss: 0.599\n",
      "Epoch 9 loss: 0.289\n",
      "Epoch 10 loss: 0.179\n",
      "Epoch 11 loss: 0.083\n",
      "Epoch 12 loss: 0.552\n",
      "Epoch 13 loss: 0.233\n",
      "Epoch 14 loss: 0.151\n",
      "Epoch 15 loss: 0.109\n",
      "Epoch 16 loss: 0.486\n",
      "Epoch 17 loss: 0.223\n",
      "Epoch 18 loss: 0.464\n",
      "Epoch 19 loss: 0.093\n",
      "Epoch 20 loss: 0.247\n",
      "Epoch 21 loss: 0.099\n",
      "Epoch 22 loss: 0.256\n",
      "Epoch 23 loss: 0.367\n",
      "Epoch 24 loss: 0.107\n",
      "Epoch 25 loss: 0.016\n",
      "Epoch 26 loss: 0.003\n"
     ]
    }
   ],
   "source": [
    "epochs = 26\n",
    "# Train the model\n",
    "print('Training model...')\n",
    "for epoch in range(epochs):\n",
    "    running_loss = 0.0\n",
    "    for i, data in enumerate(train_loader, 0):\n",
    "        inputs, labels = data\n",
    "        inputs = inputs.to(device)\n",
    "        labels = labels.to(device)\n",
    "        optimizer.zero_grad()\n",
    "\n",
    "        outputs = model(inputs)\n",
    "\n",
    "        loss = criterion(outputs, labels)\n",
    "\n",
    "        loss.backward()\n",
    "        optimizer.step()\n",
    "\n",
    "    print(f\"Epoch {epoch + 1} loss: {loss.item():.3f}\")\n"
   ]
  },
  {
   "cell_type": "code",
   "execution_count": 9,
   "id": "ccacf437-04ff-4bba-acaa-eeb7b53219ae",
   "metadata": {},
   "outputs": [
    {
     "name": "stdout",
     "output_type": "stream",
     "text": [
      "Validating model...\n",
      "Accuracy of the network on the 620 validation images: 91.61%\n"
     ]
    }
   ],
   "source": [
    "# Validate the model\n",
    "\n",
    "print('Validating model...')\n",
    "\n",
    "correct = 0\n",
    "total = 0\n",
    "\n",
    "with torch.no_grad():\n",
    "    for data in val_loader:\n",
    "        images, labels = data\n",
    "        images = images.to(device)\n",
    "        labels = labels.to(device)\n",
    "        outputs = model(images)\n",
    "        _, predicted = torch.max(outputs.data, 1)\n",
    "        total += labels.size(0)\n",
    "        correct += (predicted == labels).sum().item()\n",
    "\n",
    "print(f\"Accuracy of the network on the {val_size} validation images: {(100 * correct / total):.2f}%\")\n",
    "\n"
   ]
  }
 ],
 "metadata": {
  "kernelspec": {
   "display_name": "Python 3 (ipykernel)",
   "language": "python",
   "name": "python3"
  },
  "language_info": {
   "codemirror_mode": {
    "name": "ipython",
    "version": 3
   },
   "file_extension": ".py",
   "mimetype": "text/x-python",
   "name": "python",
   "nbconvert_exporter": "python",
   "pygments_lexer": "ipython3",
   "version": "3.10.12"
  }
 },
 "nbformat": 4,
 "nbformat_minor": 5
}
